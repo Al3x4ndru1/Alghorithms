{
 "cells": [
  {
   "cell_type": "markdown",
   "metadata": {},
   "source": [
    "# Reliabity Design"
   ]
  },
  {
   "cell_type": "markdown",
   "metadata": {},
   "source": [
    "## Problem:"
   ]
  },
  {
   "cell_type": "markdown",
   "metadata": {},
   "source": [
    "We have to set a system, our system consists of some devices (d1,d2,d3,d4), each devices have some costs and each devices have some reliability (probability to work good, like board, that reliability is high, lights the reliability is low), chances to work perfectly."
   ]
  },
  {
   "cell_type": "markdown",
   "metadata": {},
   "source": [
    "Let's asume that we have 0.9 for reliability for each devices and we have 4 devices, then the reliability of entire system is the product of all the reliabilities, \n",
    "\n",
    "Product = (0.9)^4\n",
    "\n",
    "Product = 0.6561"
   ]
  },
  {
   "cell_type": "markdown",
   "metadata": {},
   "source": [
    "So in this case we have 65% chances that will work perfectly, but we have 35% chances that if something goes wrong we have to stop the process, so we have to improve the system."
   ]
  },
  {
   "cell_type": "markdown",
   "metadata": {},
   "source": [
    "I want to set up a system such that the reliability is maximum. In this case I should have more than 1 copy of the devices, let's say more than 1 copy of cameras, markers, board"
   ]
  },
  {
   "cell_type": "markdown",
   "metadata": {},
   "source": [
    "Example 1:\n",
    "<br>\n",
    "\n",
    "![](figs/Series.png)"
   ]
  },
  {
   "cell_type": "markdown",
   "metadata": {},
   "source": [
    "In this example, the devices are connected in series, and in the right part is the reliability of the system, so we will have to connect them in parallel."
   ]
  },
  {
   "cell_type": "markdown",
   "metadata": {},
   "source": [
    "So same copyies in each group like this:\n",
    "<br>\n",
    "\n",
    "![](figs/Paralell.png)"
   ]
  },
  {
   "cell_type": "markdown",
   "metadata": {},
   "source": [
    "We can say the groups are stages and each stage will have multiple copies and one of the copy are working the rest of the copies will act as backup as you can see for D1"
   ]
  },
  {
   "cell_type": "markdown",
   "metadata": {},
   "source": [
    "So now we have to check if the reliability of each device has improved or not.\n",
    "\n",
    "So we have 3 copies the reliability of each device is 0.9, what will be the reliability of the stage:\n",
    "\n",
    "r1 = 0.1\n",
    "\n",
    "1-r1 = 1 - 0.9 => 0.1\n",
    "\n",
    "(1 -r1)^3 = (0.1)^3 => 0.001\n",
    "\n",
    "1 - (1 - r1)^3 = 1 - 0.001 => 0.999 // The probability that 3 copies are working perfectly"
   ]
  },
  {
   "cell_type": "markdown",
   "metadata": {},
   "source": [
    "As you can see the reliability has increased because it was just 0.9 and now is 0.999"
   ]
  },
  {
   "cell_type": "markdown",
   "metadata": {},
   "source": [
    "It means that if we have multiple copie of the same device then the reliability of the entire system may increase"
   ]
  },
  {
   "cell_type": "markdown",
   "metadata": {},
   "source": [
    "---------------------------------------------------------"
   ]
  },
  {
   "cell_type": "markdown",
   "metadata": {},
   "source": [
    "## Actial Problem:"
   ]
  },
  {
   "cell_type": "markdown",
   "metadata": {},
   "source": [
    "If I have some cost, C, total amount and I have to set up a system by buying those devices and connecting them, so how many copies of each device I should buy withim that cost, such that the reliability of that cost is maximized"
   ]
  },
  {
   "cell_type": "markdown",
   "metadata": {},
   "source": [
    "---------------------------------------------"
   ]
  },
  {
   "cell_type": "markdown",
   "metadata": {},
   "source": [
    "## Example problem:"
   ]
  },
  {
   "cell_type": "markdown",
   "metadata": {},
   "source": [
    "![](figs/ActualProblem.png)"
   ]
  },
  {
   "cell_type": "markdown",
   "metadata": {},
   "source": [
    "We have the cost of the devices and we also have the reliability of each one. Then the ui is the upperbound. "
   ]
  },
  {
   "cell_type": "markdown",
   "metadata": {},
   "source": [
    "I must have at least 1 device for each one of the devices. So I must have:\n",
    "\n",
    "Sum Ci = C1 + C2 + C3\n",
    "\n",
    "Sum Ci = 30 + 15 + 20\n",
    "\n",
    "Sum Ci = 65"
   ]
  },
  {
   "cell_type": "markdown",
   "metadata": {},
   "source": [
    "---------------------------------------"
   ]
  },
  {
   "cell_type": "markdown",
   "metadata": {},
   "source": [
    "## Formula:"
   ]
  },
  {
   "cell_type": "markdown",
   "metadata": {},
   "source": [
    "The remaing amout is C - Sum Ci => 105 -65 = 40"
   ]
  },
  {
   "cell_type": "markdown",
   "metadata": {},
   "source": [
    "[(C - Sum Ci)/Ci]+1\n",
    "\n",
    "<br>\n",
    "\n",
    "![](figs/Formula.png)"
   ]
  },
  {
   "cell_type": "markdown",
   "metadata": {},
   "source": [
    "---------------------------------"
   ]
  },
  {
   "cell_type": "markdown",
   "metadata": {},
   "source": [
    "So in this case how many devices I can take:\n",
    "\n",
    "1. For C1:\n",
    "\n",
    "(40/30) + 1 = 1 + 1 = 2\n",
    "\n",
    "I can take 2 extra copy\n",
    "\n",
    "\n",
    "2. For C2:\n",
    "\n",
    "(40/15) + 1 = 2 + 1 = 3\n",
    "\n",
    "\n",
    "3. For C3:\n",
    "\n",
    "(40/20) + 1 = 2 + 1 = 3"
   ]
  },
  {
   "cell_type": "markdown",
   "metadata": {},
   "source": [
    "So the Matrix will become:\n",
    "\n",
    "<br>\n",
    "\n",
    "![](figs/FinalMatrix.png)"
   ]
  },
  {
   "cell_type": "markdown",
   "metadata": {},
   "source": [
    "-----------------------"
   ]
  },
  {
   "cell_type": "markdown",
   "metadata": {},
   "source": [
    "Now we have to calculate how many device I should take, such that the reliability of the system is maximized."
   ]
  },
  {
   "cell_type": "markdown",
   "metadata": {},
   "source": [
    "For doing that we use the 0-1 Knapsack problem. Taking set of orderd pair. Each pair will have Reliability and Cost, (R,C)"
   ]
  },
  {
   "cell_type": "markdown",
   "metadata": {},
   "source": [
    "We are taking realiability as 1 beacuse realiability will by multiplied."
   ]
  },
  {
   "cell_type": "markdown",
   "metadata": {},
   "source": [
    "For S0 = {(1,0)}"
   ]
  },
  {
   "cell_type": "markdown",
   "metadata": {},
   "source": [
    "Considered D1:\n",
    "\n",
    "S1.1 = {(0.9,30)}//with 1 copy\n",
    "\n",
    "\n",
    "Now with 2 copies:\n",
    "\n",
    "The reliability becomes:\n",
    "\n",
    "1 - (1 - r1)^2 => 1 - (1 - 0.9)^2 => 1 - (0.1)^2 => 1 - 0.01 => 0.99\n",
    "\n",
    "S1.2 = {(0.99 , 60)}\n",
    "\n",
    "\n",
    "Now combine both of the sets:\n",
    "\n",
    "S1 = {(0.9,30),(0.99,60)}"
   ]
  },
  {
   "cell_type": "markdown",
   "metadata": {},
   "source": [
    "Considered D2:\n",
    "\n",
    "One copy:\n",
    "\n",
    "S2.1 = {(0.72,45),(0.792,75)}\n",
    "\n",
    "Two copy:\n",
    "\n",
    "Calculate the reliability:\n",
    "\n",
    "1 - (1 - r1)^2 => 1 - (1 - 0.8)^2 => 1 - (0.2)^2 => 1 - 0.04 => 0.96\n",
    "\n",
    "S2.2 ={(0.864,60),(0.904,90)}\n",
    "\n",
    "As you can se we already have 90 and that means we don't have enough money for the last devide, so it becames infeasible, so we will cut off that one. And from now one we will first find the cost and then we will multiply the reliability, so we can save some calculations.\n",
    "\n",
    "We can do the calculations for the third copy of the second device asa well:\n",
    "\n",
    "\n",
    "Calculate the reliability:\n",
    "\n",
    "1 - (1 - r1)^2 => 1 - (1 - 0.8)^3 => 1 - (0.2)^3 => 1 - 0.008 => 0.992\n",
    "\n",
    "S2.3 = {(0.8928,75)} // Now we do not need the other pair because the cost is too big already\n",
    "\n",
    "\n",
    "Now we have the Set 2:\n",
    "\n",
    "\n",
    "S2 = {(0.72,45),(0.792,75),(0.864,60),(0.8928,75)}\n",
    "\n",
    "S2 = {(0.72,45),(0.864,60),(0.8928,75)}"
   ]
  },
  {
   "cell_type": "markdown",
   "metadata": {},
   "source": [
    "As you can see we have a small problem the reliability is increasing, which is perfect, but we have 0,792 with 75 as cost and after we have 0.864 with 60 as cost. This is weong because the cost is less and reliability is bigger and both are directly proportional."
   ]
  },
  {
   "cell_type": "markdown",
   "metadata": {},
   "source": [
    "Now we have to apply the dominance rule, the first one with higher cost we have to remove it."
   ]
  },
  {
   "cell_type": "markdown",
   "metadata": {},
   "source": [
    "What we have done till now:\n",
    "<br>\n",
    "\n",
    "![](figs/Domincance.png)"
   ]
  },
  {
   "cell_type": "markdown",
   "metadata": {},
   "source": [
    "Considered D3:\n",
    "\n",
    "S3.1 = {(0.36,65),(0.432,80),(0.4464,95)}\n",
    "\n",
    "\n",
    "Two devices:\n",
    "\n",
    "Calcuate reliability:\n",
    "\n",
    "1 - (1 - r1)^2 => 1 - (1 - 0.5)^2 => 1 - (0.5)^2 => 1 - 0.025 => 0.975\n",
    "\n",
    "S3.2 = {(0.54,85),(0.64,100)} // The last one will be 115 and will exceed the total amount, so will not calculate the last one\n",
    "\n",
    "\n",
    "New with 3 devices:\n",
    "\n",
    "Calcuate reliability:\n",
    "\n",
    "1 - (1 - r1)^2 => 1 - (1 - 0.5)^3 => 1 - (0.5)^3 => 1 - 0.125 => 0.875\n",
    "\n",
    "S3.3 = {(0.63,105)} // The second one will exceed the total amount, so will not calculate as well\n",
    "\n",
    "\n",
    "Now we have to form S3\n",
    "\n",
    "S3 = {(0.72,45),(0.864,60),(0.8928,75),(0.36,65),(0.432,80),(0.4464,95),(0.54,85),(0.64,100),(0.63,105)} // Will all even with the wrong ones\n",
    "\n",
    "S3 = {(0.72,45),(0.864,60),(0.8928,75),(0.36,65),(0.432,80),(0.54,85),(0.63,105),(0.64,100)} // The correct one"
   ]
  },
  {
   "cell_type": "markdown",
   "metadata": {},
   "source": [
    "------------------------------------"
   ]
  },
  {
   "cell_type": "markdown",
   "metadata": {},
   "source": [
    "Now we got the maximum reliability: 0.64 with the least cost: 100"
   ]
  },
  {
   "cell_type": "markdown",
   "metadata": {},
   "source": [
    "But we need to find how many devices I should take from each tipe.\n",
    "\n",
    "We will do it like this:\n",
    "\n",
    "We will search from where the set is coming from. Is coming from the second equation from the thrid device, as you can see:\n",
    "<br>\n",
    "\n",
    "![](figs/Search.png)"
   ]
  },
  {
   "cell_type": "markdown",
   "metadata": {},
   "source": [
    "And now we will backtrack to the path that gave us this answer:\n",
    "\n",
    "for D3 we got the answer from the (0.864,60) Pair\n",
    "\n",
    "and fo D2 we got the Pair from (0.9, 30)"
   ]
  },
  {
   "cell_type": "markdown",
   "metadata": {},
   "source": [
    "So: \n",
    "\n",
    "D3 = 2  // 2 copies of D3\n",
    "\n",
    "D2 = 2  // 2 copies of D2\n",
    "\n",
    "D1 = 1  // 1 copies of D1"
   ]
  }
 ],
 "metadata": {
  "kernelspec": {
   "display_name": "Python 3 (ipykernel)",
   "language": "python",
   "name": "python3"
  },
  "language_info": {
   "codemirror_mode": {
    "name": "ipython",
    "version": 3
   },
   "file_extension": ".py",
   "mimetype": "text/x-python",
   "name": "python",
   "nbconvert_exporter": "python",
   "pygments_lexer": "ipython3",
   "version": "3.10.6"
  },
  "vscode": {
   "interpreter": {
    "hash": "916dbcbb3f70747c44a77c7bcd40155683ae19c65e1c03b4aa3499c5328201f1"
   }
  }
 },
 "nbformat": 4,
 "nbformat_minor": 2
}
