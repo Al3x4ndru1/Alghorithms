{
 "cells": [
  {
   "cell_type": "markdown",
   "metadata": {},
   "source": [
    "# Longest Common Subsequence"
   ]
  },
  {
   "cell_type": "markdown",
   "metadata": {},
   "source": [
    "We have 2 Strings:\n",
    "\n",
    "### First example:\n",
    "\n",
    "S1 = abcdefghij\n",
    "\n",
    "S2 = cdgi"
   ]
  },
  {
   "cell_type": "markdown",
   "metadata": {},
   "source": [
    "    Important S2 is not a substring of S1"
   ]
  },
  {
   "cell_type": "markdown",
   "metadata": {},
   "source": [
    "![](figs/Example1.png)"
   ]
  },
  {
   "cell_type": "markdown",
   "metadata": {},
   "source": [
    "We want to check which set of characters are appering in sequence.\n",
    "\n",
    "We are starting with the smallest set of characters and we can say that c appear in S1; d appear in S1; g appear in S1; and i appear in S1;\n",
    "\n",
    "\n",
    "The characters are not in one after the other, but the characters are in the same order, so cdgi is the Longest Common Subsequence.\n",
    "\n",
    "From S2 cdgi we can say that dgi is a appering or gi is appering, but we want to check for the longest common subsequence."
   ]
  },
  {
   "cell_type": "markdown",
   "metadata": {},
   "source": [
    "________________________"
   ]
  },
  {
   "cell_type": "markdown",
   "metadata": {},
   "source": [
    "### another example:"
   ]
  },
  {
   "cell_type": "markdown",
   "metadata": {},
   "source": [
    "S1 = abcdefghij\n",
    "\n",
    "S2 = cdgi"
   ]
  },
  {
   "cell_type": "markdown",
   "metadata": {},
   "source": [
    "![](figs/Example.png)"
   ]
  },
  {
   "cell_type": "markdown",
   "metadata": {},
   "source": [
    "In this case e should appear after c but in String 2 e appears before c, so now I will skipp the characters that are before e. I will skip d as well. In this case we will have \" **egi** \" as the Longest Subsequence after first run. "
   ]
  },
  {
   "cell_type": "markdown",
   "metadata": {},
   "source": [
    "Now we will look for any other subsequence:\n",
    "\n",
    "Now instead of starting from e we will start from c. In this case we will have \" **cdgi** \" as the Longest Subsequence, which is longer than \" **egi** \""
   ]
  },
  {
   "cell_type": "markdown",
   "metadata": {},
   "source": [
    "### Third example:"
   ]
  },
  {
   "cell_type": "markdown",
   "metadata": {},
   "source": [
    "![](figs/Example3.png)"
   ]
  },
  {
   "cell_type": "markdown",
   "metadata": {},
   "source": [
    "As we can see we have a starting point \" **b** \" and after we have a which indicates first a, this one is not included in the subsequence, but after will indicate the next a which will be included in the subsequence.\n",
    "\n",
    "After the first run we will as the Longest Subsequence:\n",
    "\n",
    "\" **bace** \"\n",
    "\n",
    "![](figs/Subsequence1.png)"
   ]
  },
  {
   "cell_type": "markdown",
   "metadata": {},
   "source": [
    "After the second run we will have as the Longest Subsequence:\n",
    "\n",
    "\" **abce** \"\n",
    "\n",
    "![](figs/Seubsequence2.png)"
   ]
  },
  {
   "cell_type": "markdown",
   "metadata": {},
   "source": [
    "We can have multiple subsequence with the same length."
   ]
  },
  {
   "cell_type": "markdown",
   "metadata": {},
   "source": [
    "## Solving Using Recursion:"
   ]
  },
  {
   "cell_type": "code",
   "execution_count": null,
   "metadata": {
    "vscode": {
     "languageId": "cpp"
    }
   },
   "outputs": [],
   "source": [
    "int LCS(int i,int j){\n",
    "    if(A[i]=='\\0' || B[i]=='\\0'){\n",
    "        return 0;\n",
    "        }\n",
    "        else{\n",
    "            if(A[i]==B[i]){\n",
    "                return 1 + LCS(i+1,j+1);\n",
    "            }\n",
    "            else{\n",
    "                return max(LCS(i+1,j),LCS(i,j+1));\n",
    "            }\n",
    "        }\n",
    "}"
   ]
  },
  {
   "cell_type": "markdown",
   "metadata": {},
   "source": [
    "Tracing the alghorithm:\n",
    "\n",
    "![](figs/Tracing%20the%20alghorithm.png)"
   ]
  },
  {
   "cell_type": "markdown",
   "metadata": {},
   "source": [
    "In the left case we don't have any maches so the alghorithm will return 1 for the left side."
   ]
  },
  {
   "cell_type": "markdown",
   "metadata": {},
   "source": [
    "![](figs/Tracking2.png)"
   ]
  },
  {
   "cell_type": "markdown",
   "metadata": {},
   "source": [
    "In this case we have some mates and when we have mates we add 1 for i and 1 for j and we add 1 to the total number of apperances."
   ]
  },
  {
   "cell_type": "markdown",
   "metadata": {},
   "source": [
    "This is top-down approach."
   ]
  },
  {
   "cell_type": "markdown",
   "metadata": {},
   "source": [
    "But here we have an overleaping problem. We have [d,c] for the left Tracing, which is done first and then we have also [d,c] for the right Tracing, which is done last. \n",
    "\n",
    "And the answer for both was 1, so it means that we have to call that recursive call again?\n",
    "\n",
    "We don't need to call it again if we can store it somewhere, That means we use memorization."
   ]
  },
  {
   "cell_type": "markdown",
   "metadata": {},
   "source": [
    "---------------------"
   ]
  },
  {
   "cell_type": "markdown",
   "metadata": {},
   "source": [
    "## Solvin Using Memorization:"
   ]
  },
  {
   "cell_type": "markdown",
   "metadata": {},
   "source": [
    "In Memorization we can have a table that will store the results of the calculations."
   ]
  },
  {
   "cell_type": "markdown",
   "metadata": {},
   "source": [
    "From O(2^n) we reduced the time to O(m*n)"
   ]
  },
  {
   "cell_type": "markdown",
   "metadata": {},
   "source": [
    "The table looks like:\n",
    "<br>\n",
    "\n",
    "![](figs/Table.png)"
   ]
  },
  {
   "cell_type": "markdown",
   "metadata": {},
   "source": [
    "------------------------------------"
   ]
  },
  {
   "cell_type": "markdown",
   "metadata": {},
   "source": [
    "## Using Dynamic Programming:"
   ]
  },
  {
   "cell_type": "markdown",
   "metadata": {},
   "source": [
    "Dynamic Programming follows bottom up approach"
   ]
  },
  {
   "cell_type": "markdown",
   "metadata": {},
   "source": [
    "Now we carea our own matrix and we set the first lines as 0."
   ]
  },
  {
   "cell_type": "markdown",
   "metadata": {},
   "source": [
    "if the charcters are matching then get the diagonal of the matrix and add 1, else do the maxim of the previous position with the above prosition."
   ]
  },
  {
   "cell_type": "markdown",
   "metadata": {},
   "source": [
    "Like in this example:\n",
    "<br>\n",
    "\n",
    "![](figs/Dynamic.png)"
   ]
  },
  {
   "cell_type": "markdown",
   "metadata": {},
   "source": [
    "And the arrows indicates the sequence."
   ]
  },
  {
   "cell_type": "markdown",
   "metadata": {},
   "source": [
    "Time taken: O(m * n)"
   ]
  },
  {
   "cell_type": "code",
   "execution_count": null,
   "metadata": {},
   "outputs": [],
   "source": [
    "if(A[i]==B[i]){\n",
    "    LCS[i,j] = 1 + LCS[i-1,j-1];\n",
    "}else{\n",
    "    LCS[i,j] = max(LCS(i-1,j),LCS(i,j-1));\n",
    "}"
   ]
  },
  {
   "cell_type": "markdown",
   "metadata": {},
   "source": [
    "Second example:\n",
    "<br>\n",
    "\n",
    "![](figs/Dynamic2.png)"
   ]
  }
 ],
 "metadata": {
  "language_info": {
   "name": "python"
  },
  "orig_nbformat": 4
 },
 "nbformat": 4,
 "nbformat_minor": 2
}
