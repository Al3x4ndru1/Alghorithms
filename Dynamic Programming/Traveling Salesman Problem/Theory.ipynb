{
 "cells": [
  {
   "cell_type": "markdown",
   "metadata": {},
   "source": [
    "# Traveling Salesman Problem"
   ]
  },
  {
   "cell_type": "markdown",
   "metadata": {},
   "source": [
    "We have the Cost Funtion:\n",
    "<br>\n",
    "\n",
    "![](figs/CostFunction.png)"
   ]
  },
  {
   "cell_type": "markdown",
   "metadata": {},
   "source": [
    "And we have a matrix that has all the costs:\n",
    "<br>\n",
    "\n",
    "![](figs/Matrix.png)"
   ]
  },
  {
   "cell_type": "markdown",
   "metadata": {},
   "source": [
    "And we have a graph that will show us the paths:\n",
    "<br>\n",
    "\n",
    "![](figs/Graph.png)"
   ]
  },
  {
   "cell_type": "markdown",
   "metadata": {},
   "source": [
    "This is how we will use the Cost Function:\n",
    "<br>\n",
    "\n",
    "![](figs/CostExample.png)"
   ]
  },
  {
   "cell_type": "markdown",
   "metadata": {},
   "source": [
    "This is a recursive function. Cost of a root is define in terms of a root again. In the next image we will see how to use it, by generating a recursive tree:\n",
    "\n",
    "<br>\n",
    "\n",
    "![](figs/RecursiveTree.png)"
   ]
  },
  {
   "cell_type": "markdown",
   "metadata": {},
   "source": [
    "As you can see we asume that we will start from 1, so the first line:\n",
    "\n",
    "For Node 2:\n",
    "\n",
    "C12 + g(2  , {2,3,4} - {2}) => C12 + g(         2  ,        {3,4})\n",
    "\n",
    "                        node that we are at      remaning\n",
    "\n",
    "\n",
    "In the above example we already substitude the C12 or C13 with their values."
   ]
  },
  {
   "cell_type": "markdown",
   "metadata": {},
   "source": [
    "Now we have to go back again to the starting vertex. Let's start from g(4,none) and the starting point in our case is 1 so for each we will write 1 instead of none: g(4,1) and the Tree will be:\n",
    "<br>\n",
    "\n",
    "![](figs/FinalTree.png)"
   ]
  },
  {
   "cell_type": "markdown",
   "metadata": {},
   "source": [
    "In programming we don t solve it like this. We will have to prepare a table, like in the next image:\n",
    "<br>\n",
    "\n",
    "![](figs/tables2.png)"
   ]
  },
  {
   "cell_type": "markdown",
   "metadata": {},
   "source": [
    "Each time we will select the minimum as we can see."
   ]
  },
  {
   "cell_type": "markdown",
   "metadata": {},
   "source": [
    "So the shortest pat is 35."
   ]
  },
  {
   "cell_type": "markdown",
   "metadata": {},
   "source": []
  }
 ],
 "metadata": {
  "kernelspec": {
   "display_name": "Python 3.10.6 64-bit",
   "language": "python",
   "name": "python3"
  },
  "language_info": {
   "name": "python",
   "version": "3.10.6"
  },
  "orig_nbformat": 4,
  "vscode": {
   "interpreter": {
    "hash": "916dbcbb3f70747c44a77c7bcd40155683ae19c65e1c03b4aa3499c5328201f1"
   }
  }
 },
 "nbformat": 4,
 "nbformat_minor": 2
}
